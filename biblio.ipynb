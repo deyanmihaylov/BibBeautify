{
 "cells": [
  {
   "cell_type": "code",
   "execution_count": 34,
   "id": "b113e013",
   "metadata": {},
   "outputs": [],
   "source": [
    "from pybtex.database.input import bibtex\n",
    "\n",
    "from bibliography import Bibliography\n"
   ]
  },
  {
   "cell_type": "code",
   "execution_count": 35,
   "id": "e8f90b7f",
   "metadata": {},
   "outputs": [],
   "source": [
    "bib_data1 = Bibliography(\"../topology_bibtex/bibliography.bib\")\n",
    "\n",
    "add_data1 = Bibliography(\"../topology_bibtex/additional.bib\")\n",
    "\n",
    "topo_data = Bibliography(\"../topology_bibtex/TopoBiblio.bib\")"
   ]
  },
  {
   "cell_type": "code",
   "execution_count": 36,
   "id": "f02704e6",
   "metadata": {},
   "outputs": [],
   "source": [
    "# bib_data1.merge(topo_data)\n"
   ]
  },
  {
   "cell_type": "code",
   "execution_count": 37,
   "id": "c5e53e31",
   "metadata": {},
   "outputs": [],
   "source": [
    "add_data1.to_file(\"merged.bib\")\n"
   ]
  },
  {
   "cell_type": "code",
   "execution_count": 9,
   "id": "a8d4c11c",
   "metadata": {},
   "outputs": [],
   "source": [
    "additional1 = Bibliography(\"../topology_bibtex/additional-old.bib\")\n",
    "\n",
    "additional2 = Bibliography(\"../topology_bibtex/additional.bib\")\n",
    "additional3 = Bibliography(\"../topology_bibtex/additional2.bib\")\n",
    "additional4 = Bibliography(\"../topology_bibtex/additional3.bib\")\n",
    "additional5 = Bibliography(\"../topology_bibtex/additional4.bib\")\n",
    "additional6 = Bibliography(\"../topology_bibtex/additional6.bib\")\n",
    "additional7 = Bibliography(\"../topology_bibtex/additional7.bib\")\n",
    "additional8 = Bibliography(\"../topology_bibtex/additional8.bib\")\n",
    "additional9 = Bibliography(\"../topology_bibtex/additional9.bib\")\n",
    "additional10 = Bibliography(\"../topology_bibtex/additional10.bib\")\n",
    "additional11 = Bibliography(\"../topology_bibtex/additional11.bib\")\n",
    "additional12 = Bibliography(\"../topology_bibtex/additional12.bib\")\n"
   ]
  },
  {
   "cell_type": "code",
   "execution_count": 20,
   "id": "bac3cd8f",
   "metadata": {},
   "outputs": [
    {
     "name": "stdout",
     "output_type": "stream",
     "text": [
      "Current bibliography has 243 entries.\n",
      "Resolve conflict in entry Anselmi:2022uvj.\n",
      "Resolve conflict in entry COMPACT:2022gbl.\n",
      "Resolve conflict in entry Einstein:1917ce.\n",
      "Resolve conflict in entry ResNet-50-diagram.\n",
      "Merging added 4 entries from the new bibliography.\n",
      "Current bibliography has 244 entries.\n"
     ]
    }
   ],
   "source": [
    "additional1.merge(additional12)"
   ]
  },
  {
   "cell_type": "code",
   "execution_count": 21,
   "id": "8f7d7608",
   "metadata": {},
   "outputs": [],
   "source": [
    "additional1.parsed_contents.to_file(\"additional.bib\")"
   ]
  },
  {
   "cell_type": "code",
   "execution_count": 10,
   "id": "1c8c85ba",
   "metadata": {},
   "outputs": [
    {
     "name": "stdout",
     "output_type": "stream",
     "text": [
      "Oliveira, Renan A.\n",
      "Pereira, Thiago S.\n",
      "Quartin, Miguel\n"
     ]
    }
   ],
   "source": [
    "for key in add_data1.parsed_contents.entries:\n",
    "    entry = add_data1.parsed_contents.entries[key]\n",
    "\n",
    "    for p in entry.persons[\"author\"]:\n",
    "        print(p)\n",
    "    \n",
    "    break\n"
   ]
  },
  {
   "cell_type": "code",
   "execution_count": 32,
   "id": "3bae2b94",
   "metadata": {},
   "outputs": [],
   "source": [
    "from jinja2 import Environment, FileSystemLoader\n"
   ]
  },
  {
   "cell_type": "code",
   "execution_count": 70,
   "id": "74437e15",
   "metadata": {},
   "outputs": [],
   "source": [
    "env = Environment(\n",
    "    loader=FileSystemLoader(\"templates\"),\n",
    "    trim_blocks=True,\n",
    "    lstrip_blocks=True,\n",
    ")\n",
    "template = env.get_template(\"bibliography.jinja\")\n"
   ]
  },
  {
   "cell_type": "code",
   "execution_count": 71,
   "id": "88cd29e7",
   "metadata": {},
   "outputs": [],
   "source": [
    "all_pubs_output = template.render(\n",
    "    bibliography=bib_data1.parsed_contents.entries,\n",
    ")"
   ]
  },
  {
   "cell_type": "code",
   "execution_count": 72,
   "id": "78ec264f",
   "metadata": {},
   "outputs": [],
   "source": [
    "with open(\"merged.bib\", \"w\") as f:\n",
    "\tf.write(all_pubs_output)"
   ]
  },
  {
   "cell_type": "code",
   "execution_count": null,
   "id": "25e63318",
   "metadata": {},
   "outputs": [],
   "source": []
  }
 ],
 "metadata": {
  "kernelspec": {
   "display_name": ".venv",
   "language": "python",
   "name": "python3"
  },
  "language_info": {
   "codemirror_mode": {
    "name": "ipython",
    "version": 3
   },
   "file_extension": ".py",
   "mimetype": "text/x-python",
   "name": "python",
   "nbconvert_exporter": "python",
   "pygments_lexer": "ipython3",
   "version": "3.10.16"
  }
 },
 "nbformat": 4,
 "nbformat_minor": 5
}
