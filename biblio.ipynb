{
 "cells": [
  {
   "cell_type": "code",
   "execution_count": 1,
   "id": "b113e013",
   "metadata": {},
   "outputs": [],
   "source": [
    "from pybtex.database.input import bibtex\n",
    "\n",
    "from bibliography import Bibliography\n",
    "\n",
    "def find_matching_paren(s, i, braces=None):\n",
    "    openers = braces or {\"(\": \")\"}\n",
    "    closers = {v: k for k, v in openers.items()}\n",
    "    stack = []\n",
    "    result = []\n",
    "\n",
    "    if s[i] not in openers:\n",
    "        raise ValueError(f\"char at index {i} was not an opening brace\")\n",
    "\n",
    "    for ii in range(i, len(s)):\n",
    "        c = s[ii]\n",
    "\n",
    "        if c in openers:\n",
    "            stack.append([c, ii])\n",
    "        elif c in closers:\n",
    "            if not stack:\n",
    "                raise ValueError(f\"tried to close brace without an open at position {i}\")\n",
    "\n",
    "            pair, idx = stack.pop()\n",
    "\n",
    "            if pair != closers[c]:\n",
    "                raise ValueError(f\"mismatched brace at position {i}\")\n",
    "\n",
    "            if idx == i:\n",
    "                return ii\n",
    "    \n",
    "    if stack:\n",
    "        raise ValueError(f\"no closing brace at position {i}\")\n",
    "\n",
    "    return result\n"
   ]
  },
  {
   "cell_type": "code",
   "execution_count": 2,
   "id": "e8f90b7f",
   "metadata": {},
   "outputs": [],
   "source": [
    "bib_data1 = Bibliography(\"../topology_bibtex/bibliography.bib\")\n",
    "\n",
    "add_data1 = Bibliography(\"../topology_bibtex/additional.bib\")\n",
    "\n",
    "topo_data = Bibliography(\"../topology_bibtex/TopoBiblio.bib\")"
   ]
  },
  {
   "cell_type": "code",
   "execution_count": 3,
   "id": "f02704e6",
   "metadata": {},
   "outputs": [],
   "source": [
    "# bib_data1.merge(topo_data)\n"
   ]
  },
  {
   "cell_type": "code",
   "execution_count": null,
   "id": "c5e53e31",
   "metadata": {},
   "outputs": [],
   "source": [
    "bib_data1.to_file(\"merged.bib\")\n"
   ]
  },
  {
   "cell_type": "code",
   "execution_count": 9,
   "id": "a8d4c11c",
   "metadata": {},
   "outputs": [],
   "source": [
    "additional1 = Bibliography(\"../topology_bibtex/additional-old.bib\")\n",
    "\n",
    "additional2 = Bibliography(\"../topology_bibtex/additional.bib\")\n",
    "additional3 = Bibliography(\"../topology_bibtex/additional2.bib\")\n",
    "additional4 = Bibliography(\"../topology_bibtex/additional3.bib\")\n",
    "additional5 = Bibliography(\"../topology_bibtex/additional4.bib\")\n",
    "additional6 = Bibliography(\"../topology_bibtex/additional6.bib\")\n",
    "additional7 = Bibliography(\"../topology_bibtex/additional7.bib\")\n",
    "additional8 = Bibliography(\"../topology_bibtex/additional8.bib\")\n",
    "additional9 = Bibliography(\"../topology_bibtex/additional9.bib\")\n",
    "additional10 = Bibliography(\"../topology_bibtex/additional10.bib\")\n",
    "additional11 = Bibliography(\"../topology_bibtex/additional11.bib\")\n",
    "additional12 = Bibliography(\"../topology_bibtex/additional12.bib\")\n"
   ]
  },
  {
   "cell_type": "code",
   "execution_count": 20,
   "id": "bac3cd8f",
   "metadata": {},
   "outputs": [
    {
     "name": "stdout",
     "output_type": "stream",
     "text": [
      "Current bibliography has 243 entries.\n",
      "Resolve conflict in entry Anselmi:2022uvj.\n",
      "Resolve conflict in entry COMPACT:2022gbl.\n",
      "Resolve conflict in entry Einstein:1917ce.\n",
      "Resolve conflict in entry ResNet-50-diagram.\n",
      "Merging added 4 entries from the new bibliography.\n",
      "Current bibliography has 244 entries.\n"
     ]
    }
   ],
   "source": [
    "additional1.merge(additional12)"
   ]
  },
  {
   "cell_type": "code",
   "execution_count": 21,
   "id": "8f7d7608",
   "metadata": {},
   "outputs": [],
   "source": [
    "additional1.parsed_contents.to_file(\"additional.bib\")"
   ]
  },
  {
   "cell_type": "code",
   "execution_count": null,
   "id": "1c8c85ba",
   "metadata": {},
   "outputs": [
    {
     "name": "stdout",
     "output_type": "stream",
     "text": [
      "Planck2013 results. XXIII. Isotropy and statistics of the CMB\n",
      "Planck2015 results: XVI. Isotropy and statistics of the CMB\n",
      "Planck2018 results: VII. Isotropy and statistics of the CMB\n",
      "Planck2018 results: VI. Cosmological parameters\n",
      "CMB anomalies after Planck\n",
      "Cosmology intertwined: A review of the particle physics, astrophysics, and cosmology associated with the cosmological tensions and anomalies\n",
      "The galaxy power spectrum take on spatial curvature and cosmic concordance\n",
      "Cosmic topology\n",
      "Cosmic topology. Part I. Limits on orientable Euclidean manifolds from circle searches\n",
      "Cosmic topology. Part II. Eigenmodes, correlation matrices, and detectability of orientable Euclidean manifolds\n",
      "Topologische Untersuchung der Diskontinuitätsbereiche endlicher Bewegungsgruppen des dreidimensionalen sphärischen Raumes\n",
      "Topological lensing in spherical spaces\n",
      "How well proportioned are lens and prism spaces?\n",
      "Detectability of cosmic topology in almost flat universes\n",
      "Eigenmodes of three-dimensional spherical spaces and their application to cosmology\n",
      "Exact polynomial eigenmodes for homogeneous spherical 3-manifolds\n",
      "Three dimensional manifolds, Kleinian groups and hyperbolic geometry\n",
      "Planck2018 results: VI. Cosmological parameters\n",
      "What is flat LCDM, and may we choose it?\n",
      "An estimate of the size of the universe from a topological point of view\n",
      "Is the Periodicity in the Distribution of Quasar Redshifts an Evidence of Multiply Connected Universe\n",
      "Topology and cosmology\n",
      "Geometry with an Introduction to Cosmic Topology\n",
      "Information Theory and Statistics\n",
      "3-manifolds\n",
      "Differential Topology\n",
      "Three-Dimensional Geometry and Topology, Volume 1: (PMS-35)\n",
      "Eigenmode analysis of perturbations in the primordial medium at and before recombination\n",
      "Physical Foundations of Cosmology\n",
      "Group Theory: And Its Application to the Quantum Mechanics of Atomic Spectra\n",
      "Fundamentals of Matrix Computations\n",
      "healpy: equal area pixelization and spherical harmonics transforms for data on the sphere in Python\n",
      "Scikit-learn: Machine Learning in {P}ython\n",
      "Complex-Valued vs. Real-Valued Neural Networks for Classification Perspectives: An Example on Non-Circular Data\n",
      "Scikit-learn Random Forest Classifier\n",
      "XGBoost Classifier: Python API Reference\n",
      "1D convolutional neural networks and applications: A survey\n",
      "A 1D CNN for high accuracy classification and transfer learning in motor imagery EEG-based brain-computer interface\n",
      "Weak-lensing Mass Reconstruction of Galaxy Clusters with a Convolutional Neural Network\n",
      "Recognition of Astronomical Strong Gravitational Lens System Based on Deep Learning\n",
      "Ohio Supercomputer Center\n",
      "The Annotated ResNet-50\n",
      "ResNet-50 diagram\n",
      "Generalization Characteristics of Complex-Valued Feedforward Neural Networks in Relation to Signal Coherence\n",
      "NEGU93/cvnn: Fixed Max Pooling 2D\n",
      "Complex-Valued Neural Networks (CVNN)\n",
      "Keras\n",
      "{TensorFlow}: Large-Scale Machine Learning on Heterogeneous Systems\n",
      "healpy: equal area pixelization and spherical harmonics transforms for data on the sphere in Python\n",
      "Quantum theory of angular momentum\n",
      "Quantum theory of angular momentum\n",
      "Cosmology\n",
      "Cosmology\n",
      "Planck 2018 results-VI. Cosmological parameters\n",
      "Power spectrum of domain-wall network, and its implications for isotropic and anisotropic cosmic birefringence\n",
      "Exact CMB B-mode power spectrum from anisotropic cosmic birefringence\n",
      "Is cosmic birefringence due to dark energy or dark matter? A tomographic approach\n",
      "Spacetime foam\n",
      "The nontriviality of trivial general covariance: How electrons restrict time coordinates, spinors (almost) fit into tensor calculus, and of a tetrad is surplus structure\n",
      "Weak lensing of the CMB: A harmonic approach\n"
     ]
    }
   ],
   "source": [
    "for key in add_data1.parsed_contents.entries:\n",
    "    entry = add_data1.parsed_contents.entries[key]\n",
    "\n",
    "    title_bracket_flag = True\n",
    "\n",
    "    if \"title\" in entry.fields.keys():\n",
    "        if entry.fields[\"title\"][0] == '{':\n",
    "            if find_matching_paren(entry.fields[\"title\"], 0, {'{': '}'}) == len(entry.fields[\"title\"]) - 1:\n",
    "                title_bracket_flag = False\n",
    "\n",
    "        if title_bracket_flag is True:\n",
    "            print(entry.fields[\"title\"])\n"
   ]
  },
  {
   "cell_type": "code",
   "execution_count": 32,
   "id": "3bae2b94",
   "metadata": {},
   "outputs": [],
   "source": [
    "from jinja2 import Environment, FileSystemLoader\n"
   ]
  },
  {
   "cell_type": "code",
   "execution_count": 70,
   "id": "74437e15",
   "metadata": {},
   "outputs": [],
   "source": [
    "env = Environment(\n",
    "    loader=FileSystemLoader(\"templates\"),\n",
    "    trim_blocks=True,\n",
    "    lstrip_blocks=True,\n",
    ")\n",
    "template = env.get_template(\"bibliography.jinja\")\n"
   ]
  },
  {
   "cell_type": "code",
   "execution_count": 71,
   "id": "88cd29e7",
   "metadata": {},
   "outputs": [],
   "source": [
    "all_pubs_output = template.render(\n",
    "    bibliography=bib_data1.parsed_contents.entries,\n",
    ")"
   ]
  },
  {
   "cell_type": "code",
   "execution_count": 72,
   "id": "78ec264f",
   "metadata": {},
   "outputs": [],
   "source": [
    "with open(\"merged.bib\", \"w\") as f:\n",
    "\tf.write(all_pubs_output)"
   ]
  },
  {
   "cell_type": "code",
   "execution_count": null,
   "id": "25e63318",
   "metadata": {},
   "outputs": [],
   "source": []
  }
 ],
 "metadata": {
  "kernelspec": {
   "display_name": ".venv",
   "language": "python",
   "name": "python3"
  },
  "language_info": {
   "codemirror_mode": {
    "name": "ipython",
    "version": 3
   },
   "file_extension": ".py",
   "mimetype": "text/x-python",
   "name": "python",
   "nbconvert_exporter": "python",
   "pygments_lexer": "ipython3",
   "version": "3.10.16"
  }
 },
 "nbformat": 4,
 "nbformat_minor": 5
}
